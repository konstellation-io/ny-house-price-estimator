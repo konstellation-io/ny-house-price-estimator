{
 "cells": [
  {
   "cell_type": "markdown",
   "id": "456c039a",
   "metadata": {},
   "source": [
    "# Classifier model exploration"
   ]
  },
  {
   "cell_type": "code",
   "execution_count": 1,
   "id": "7d97dfb0",
   "metadata": {},
   "outputs": [],
   "source": [
    "import os\n",
    "from pathlib import Path\n",
    "\n",
    "from matplotlib import pyplot as plt\n",
    "import numpy as np\n",
    "import pandas as pd\n",
    "from pandas import DataFrame\n",
    "import seaborn as sns\n",
    "from sklearn.ensemble import RandomForestClassifier\n",
    "from sklearn.metrics import accuracy_score, roc_auc_score, classification_report, confusion_matrix\n",
    "from sklearn.model_selection import train_test_split"
   ]
  },
  {
   "cell_type": "markdown",
   "id": "684877bc",
   "metadata": {},
   "source": [
    "## Access processed data"
   ]
  },
  {
   "cell_type": "code",
   "execution_count": 2,
   "id": "b3045f11",
   "metadata": {},
   "outputs": [
    {
     "data": {
      "text/plain": [
       "['listings_processed.csv', 'lsitings_processed.csv']"
      ]
     },
     "execution_count": 2,
     "metadata": {},
     "output_type": "execute_result"
    }
   ],
   "source": [
    "DIR_REPO = Path.cwd().parent.parent\n",
    "DIR_MINIO = DIR_REPO.parent.parent / \"shared-storage\" / \"ny-price-estimator\" / \"data\"\n",
    "DIR_DATA_RAW = Path(DIR_MINIO) / \"raw\"\n",
    "DIR_DATA_PROCESSED = Path(DIR_MINIO) / \"processed\"\n",
    "\n",
    "os.listdir(DIR_DATA_PROCESSED)"
   ]
  },
  {
   "cell_type": "code",
   "execution_count": 3,
   "id": "cd7a8eaa",
   "metadata": {},
   "outputs": [],
   "source": [
    "FILEPATH_PROCESSED = DIR_DATA_PROCESSED / \"listings_processed.csv\""
   ]
  },
  {
   "cell_type": "code",
   "execution_count": 4,
   "id": "73c6edbd",
   "metadata": {},
   "outputs": [
    {
     "data": {
      "text/html": [
       "<div>\n",
       "<style scoped>\n",
       "    .dataframe tbody tr th:only-of-type {\n",
       "        vertical-align: middle;\n",
       "    }\n",
       "\n",
       "    .dataframe tbody tr th {\n",
       "        vertical-align: top;\n",
       "    }\n",
       "\n",
       "    .dataframe thead th {\n",
       "        text-align: right;\n",
       "    }\n",
       "</style>\n",
       "<table border=\"1\" class=\"dataframe\">\n",
       "  <thead>\n",
       "    <tr style=\"text-align: right;\">\n",
       "      <th></th>\n",
       "      <th>id</th>\n",
       "      <th>neighbourhood</th>\n",
       "      <th>property_type</th>\n",
       "      <th>room_type</th>\n",
       "      <th>zipcode</th>\n",
       "      <th>latitude</th>\n",
       "      <th>longitude</th>\n",
       "      <th>accommodates</th>\n",
       "      <th>bathrooms</th>\n",
       "      <th>bedrooms</th>\n",
       "      <th>...</th>\n",
       "      <th>price</th>\n",
       "      <th>category</th>\n",
       "      <th>TV</th>\n",
       "      <th>Internet</th>\n",
       "      <th>Air_conditioning</th>\n",
       "      <th>Kitchen</th>\n",
       "      <th>Heating</th>\n",
       "      <th>Wifi</th>\n",
       "      <th>Elevator</th>\n",
       "      <th>Breakfast</th>\n",
       "    </tr>\n",
       "  </thead>\n",
       "  <tbody>\n",
       "    <tr>\n",
       "      <th>0</th>\n",
       "      <td>15509</td>\n",
       "      <td>4</td>\n",
       "      <td>Apartment</td>\n",
       "      <td>2</td>\n",
       "      <td>11221</td>\n",
       "      <td>40.685384</td>\n",
       "      <td>-73.932709</td>\n",
       "      <td>2</td>\n",
       "      <td>NaN</td>\n",
       "      <td>1.0</td>\n",
       "      <td>...</td>\n",
       "      <td>59</td>\n",
       "      <td>0.0</td>\n",
       "      <td>1</td>\n",
       "      <td>0</td>\n",
       "      <td>0</td>\n",
       "      <td>1</td>\n",
       "      <td>1</td>\n",
       "      <td>1</td>\n",
       "      <td>0</td>\n",
       "      <td>0</td>\n",
       "    </tr>\n",
       "    <tr>\n",
       "      <th>1</th>\n",
       "      <td>2515</td>\n",
       "      <td>5</td>\n",
       "      <td>Apartment</td>\n",
       "      <td>2</td>\n",
       "      <td>10026</td>\n",
       "      <td>40.799205</td>\n",
       "      <td>-73.953676</td>\n",
       "      <td>3</td>\n",
       "      <td>1.0</td>\n",
       "      <td>1.0</td>\n",
       "      <td>...</td>\n",
       "      <td>59</td>\n",
       "      <td>0.0</td>\n",
       "      <td>1</td>\n",
       "      <td>1</td>\n",
       "      <td>1</td>\n",
       "      <td>1</td>\n",
       "      <td>1</td>\n",
       "      <td>1</td>\n",
       "      <td>0</td>\n",
       "      <td>0</td>\n",
       "    </tr>\n",
       "    <tr>\n",
       "      <th>2</th>\n",
       "      <td>2539</td>\n",
       "      <td>4</td>\n",
       "      <td>Apartment</td>\n",
       "      <td>2</td>\n",
       "      <td>11218</td>\n",
       "      <td>40.647486</td>\n",
       "      <td>-73.972370</td>\n",
       "      <td>4</td>\n",
       "      <td>1.0</td>\n",
       "      <td>1.0</td>\n",
       "      <td>...</td>\n",
       "      <td>149</td>\n",
       "      <td>1.0</td>\n",
       "      <td>1</td>\n",
       "      <td>1</td>\n",
       "      <td>0</td>\n",
       "      <td>1</td>\n",
       "      <td>1</td>\n",
       "      <td>1</td>\n",
       "      <td>1</td>\n",
       "      <td>0</td>\n",
       "    </tr>\n",
       "    <tr>\n",
       "      <th>3</th>\n",
       "      <td>2595</td>\n",
       "      <td>5</td>\n",
       "      <td>Apartment</td>\n",
       "      <td>3</td>\n",
       "      <td>10018</td>\n",
       "      <td>40.753621</td>\n",
       "      <td>-73.983774</td>\n",
       "      <td>2</td>\n",
       "      <td>1.0</td>\n",
       "      <td>0.0</td>\n",
       "      <td>...</td>\n",
       "      <td>225</td>\n",
       "      <td>2.0</td>\n",
       "      <td>1</td>\n",
       "      <td>0</td>\n",
       "      <td>1</td>\n",
       "      <td>1</td>\n",
       "      <td>1</td>\n",
       "      <td>1</td>\n",
       "      <td>0</td>\n",
       "      <td>0</td>\n",
       "    </tr>\n",
       "    <tr>\n",
       "      <th>4</th>\n",
       "      <td>15729</td>\n",
       "      <td>4</td>\n",
       "      <td>House</td>\n",
       "      <td>2</td>\n",
       "      <td>11231</td>\n",
       "      <td>40.676947</td>\n",
       "      <td>-74.011209</td>\n",
       "      <td>4</td>\n",
       "      <td>1.0</td>\n",
       "      <td>1.0</td>\n",
       "      <td>...</td>\n",
       "      <td>89</td>\n",
       "      <td>0.0</td>\n",
       "      <td>0</td>\n",
       "      <td>0</td>\n",
       "      <td>1</td>\n",
       "      <td>1</td>\n",
       "      <td>1</td>\n",
       "      <td>1</td>\n",
       "      <td>0</td>\n",
       "      <td>0</td>\n",
       "    </tr>\n",
       "  </tbody>\n",
       "</table>\n",
       "<p>5 rows × 22 columns</p>\n",
       "</div>"
      ],
      "text/plain": [
       "      id  neighbourhood property_type  room_type zipcode   latitude  \\\n",
       "0  15509              4     Apartment          2   11221  40.685384   \n",
       "1   2515              5     Apartment          2   10026  40.799205   \n",
       "2   2539              4     Apartment          2   11218  40.647486   \n",
       "3   2595              5     Apartment          3   10018  40.753621   \n",
       "4  15729              4         House          2   11231  40.676947   \n",
       "\n",
       "   longitude  accommodates  bathrooms  bedrooms  ...  price category  TV  \\\n",
       "0 -73.932709             2        NaN       1.0  ...     59      0.0   1   \n",
       "1 -73.953676             3        1.0       1.0  ...     59      0.0   1   \n",
       "2 -73.972370             4        1.0       1.0  ...    149      1.0   1   \n",
       "3 -73.983774             2        1.0       0.0  ...    225      2.0   1   \n",
       "4 -74.011209             4        1.0       1.0  ...     89      0.0   0   \n",
       "\n",
       "   Internet  Air_conditioning  Kitchen  Heating  Wifi  Elevator  Breakfast  \n",
       "0         0                 0        1        1     1         0          0  \n",
       "1         1                 1        1        1     1         0          0  \n",
       "2         1                 0        1        1     1         1          0  \n",
       "3         0                 1        1        1     1         0          0  \n",
       "4         0                 1        1        1     1         0          0  \n",
       "\n",
       "[5 rows x 22 columns]"
      ]
     },
     "execution_count": 4,
     "metadata": {},
     "output_type": "execute_result"
    }
   ],
   "source": [
    "df = pd.read_csv(FILEPATH_PROCESSED, index_col=0)\n",
    "df.head()"
   ]
  },
  {
   "cell_type": "code",
   "execution_count": 5,
   "id": "d25b3c1e",
   "metadata": {},
   "outputs": [],
   "source": [
    "df = df.dropna(axis=0)"
   ]
  },
  {
   "cell_type": "code",
   "execution_count": 6,
   "id": "be4e08fd",
   "metadata": {},
   "outputs": [
    {
     "data": {
      "text/html": [
       "<div>\n",
       "<style scoped>\n",
       "    .dataframe tbody tr th:only-of-type {\n",
       "        vertical-align: middle;\n",
       "    }\n",
       "\n",
       "    .dataframe tbody tr th {\n",
       "        vertical-align: top;\n",
       "    }\n",
       "\n",
       "    .dataframe thead th {\n",
       "        text-align: right;\n",
       "    }\n",
       "</style>\n",
       "<table border=\"1\" class=\"dataframe\">\n",
       "  <thead>\n",
       "    <tr style=\"text-align: right;\">\n",
       "      <th></th>\n",
       "      <th>id</th>\n",
       "      <th>neighbourhood</th>\n",
       "      <th>property_type</th>\n",
       "      <th>room_type</th>\n",
       "      <th>zipcode</th>\n",
       "      <th>latitude</th>\n",
       "      <th>longitude</th>\n",
       "      <th>accommodates</th>\n",
       "      <th>bathrooms</th>\n",
       "      <th>bedrooms</th>\n",
       "      <th>...</th>\n",
       "      <th>price</th>\n",
       "      <th>category</th>\n",
       "      <th>TV</th>\n",
       "      <th>Internet</th>\n",
       "      <th>Air_conditioning</th>\n",
       "      <th>Kitchen</th>\n",
       "      <th>Heating</th>\n",
       "      <th>Wifi</th>\n",
       "      <th>Elevator</th>\n",
       "      <th>Breakfast</th>\n",
       "    </tr>\n",
       "  </thead>\n",
       "  <tbody>\n",
       "    <tr>\n",
       "      <th>1</th>\n",
       "      <td>2515</td>\n",
       "      <td>5</td>\n",
       "      <td>Apartment</td>\n",
       "      <td>2</td>\n",
       "      <td>10026</td>\n",
       "      <td>40.799205</td>\n",
       "      <td>-73.953676</td>\n",
       "      <td>3</td>\n",
       "      <td>1.0</td>\n",
       "      <td>1.0</td>\n",
       "      <td>...</td>\n",
       "      <td>59</td>\n",
       "      <td>0.0</td>\n",
       "      <td>1</td>\n",
       "      <td>1</td>\n",
       "      <td>1</td>\n",
       "      <td>1</td>\n",
       "      <td>1</td>\n",
       "      <td>1</td>\n",
       "      <td>0</td>\n",
       "      <td>0</td>\n",
       "    </tr>\n",
       "    <tr>\n",
       "      <th>2</th>\n",
       "      <td>2539</td>\n",
       "      <td>4</td>\n",
       "      <td>Apartment</td>\n",
       "      <td>2</td>\n",
       "      <td>11218</td>\n",
       "      <td>40.647486</td>\n",
       "      <td>-73.972370</td>\n",
       "      <td>4</td>\n",
       "      <td>1.0</td>\n",
       "      <td>1.0</td>\n",
       "      <td>...</td>\n",
       "      <td>149</td>\n",
       "      <td>1.0</td>\n",
       "      <td>1</td>\n",
       "      <td>1</td>\n",
       "      <td>0</td>\n",
       "      <td>1</td>\n",
       "      <td>1</td>\n",
       "      <td>1</td>\n",
       "      <td>1</td>\n",
       "      <td>0</td>\n",
       "    </tr>\n",
       "    <tr>\n",
       "      <th>3</th>\n",
       "      <td>2595</td>\n",
       "      <td>5</td>\n",
       "      <td>Apartment</td>\n",
       "      <td>3</td>\n",
       "      <td>10018</td>\n",
       "      <td>40.753621</td>\n",
       "      <td>-73.983774</td>\n",
       "      <td>2</td>\n",
       "      <td>1.0</td>\n",
       "      <td>0.0</td>\n",
       "      <td>...</td>\n",
       "      <td>225</td>\n",
       "      <td>2.0</td>\n",
       "      <td>1</td>\n",
       "      <td>0</td>\n",
       "      <td>1</td>\n",
       "      <td>1</td>\n",
       "      <td>1</td>\n",
       "      <td>1</td>\n",
       "      <td>0</td>\n",
       "      <td>0</td>\n",
       "    </tr>\n",
       "    <tr>\n",
       "      <th>4</th>\n",
       "      <td>15729</td>\n",
       "      <td>4</td>\n",
       "      <td>House</td>\n",
       "      <td>2</td>\n",
       "      <td>11231</td>\n",
       "      <td>40.676947</td>\n",
       "      <td>-74.011209</td>\n",
       "      <td>4</td>\n",
       "      <td>1.0</td>\n",
       "      <td>1.0</td>\n",
       "      <td>...</td>\n",
       "      <td>89</td>\n",
       "      <td>0.0</td>\n",
       "      <td>0</td>\n",
       "      <td>0</td>\n",
       "      <td>1</td>\n",
       "      <td>1</td>\n",
       "      <td>1</td>\n",
       "      <td>1</td>\n",
       "      <td>0</td>\n",
       "      <td>0</td>\n",
       "    </tr>\n",
       "    <tr>\n",
       "      <th>5</th>\n",
       "      <td>3330</td>\n",
       "      <td>4</td>\n",
       "      <td>Apartment</td>\n",
       "      <td>2</td>\n",
       "      <td>11206</td>\n",
       "      <td>40.708558</td>\n",
       "      <td>-73.942362</td>\n",
       "      <td>2</td>\n",
       "      <td>1.0</td>\n",
       "      <td>1.0</td>\n",
       "      <td>...</td>\n",
       "      <td>70</td>\n",
       "      <td>0.0</td>\n",
       "      <td>1</td>\n",
       "      <td>1</td>\n",
       "      <td>0</td>\n",
       "      <td>1</td>\n",
       "      <td>1</td>\n",
       "      <td>1</td>\n",
       "      <td>1</td>\n",
       "      <td>0</td>\n",
       "    </tr>\n",
       "  </tbody>\n",
       "</table>\n",
       "<p>5 rows × 22 columns</p>\n",
       "</div>"
      ],
      "text/plain": [
       "      id  neighbourhood property_type  room_type zipcode   latitude  \\\n",
       "1   2515              5     Apartment          2   10026  40.799205   \n",
       "2   2539              4     Apartment          2   11218  40.647486   \n",
       "3   2595              5     Apartment          3   10018  40.753621   \n",
       "4  15729              4         House          2   11231  40.676947   \n",
       "5   3330              4     Apartment          2   11206  40.708558   \n",
       "\n",
       "   longitude  accommodates  bathrooms  bedrooms  ...  price category  TV  \\\n",
       "1 -73.953676             3        1.0       1.0  ...     59      0.0   1   \n",
       "2 -73.972370             4        1.0       1.0  ...    149      1.0   1   \n",
       "3 -73.983774             2        1.0       0.0  ...    225      2.0   1   \n",
       "4 -74.011209             4        1.0       1.0  ...     89      0.0   0   \n",
       "5 -73.942362             2        1.0       1.0  ...     70      0.0   1   \n",
       "\n",
       "   Internet  Air_conditioning  Kitchen  Heating  Wifi  Elevator  Breakfast  \n",
       "1         1                 1        1        1     1         0          0  \n",
       "2         1                 0        1        1     1         1          0  \n",
       "3         0                 1        1        1     1         0          0  \n",
       "4         0                 1        1        1     1         0          0  \n",
       "5         1                 0        1        1     1         1          0  \n",
       "\n",
       "[5 rows x 22 columns]"
      ]
     },
     "execution_count": 6,
     "metadata": {},
     "output_type": "execute_result"
    }
   ],
   "source": [
    "df.head()"
   ]
  },
  {
   "cell_type": "code",
   "execution_count": 7,
   "id": "04890929",
   "metadata": {},
   "outputs": [
    {
     "data": {
      "text/plain": [
       "Index(['id', 'neighbourhood', 'property_type', 'room_type', 'zipcode',\n",
       "       'latitude', 'longitude', 'accommodates', 'bathrooms', 'bedrooms',\n",
       "       'beds', 'bed_type', 'price', 'category', 'TV', 'Internet',\n",
       "       'Air_conditioning', 'Kitchen', 'Heating', 'Wifi', 'Elevator',\n",
       "       'Breakfast'],\n",
       "      dtype='object')"
      ]
     },
     "execution_count": 7,
     "metadata": {},
     "output_type": "execute_result"
    }
   ],
   "source": [
    "df.columns"
   ]
  },
  {
   "cell_type": "code",
   "execution_count": 8,
   "id": "c627e777",
   "metadata": {},
   "outputs": [],
   "source": [
    "FEATURE_NAMES = ['neighbourhood', 'room_type', 'accommodates', 'bathrooms', 'bedrooms']\n",
    "\n",
    "X = df[FEATURE_NAMES]\n",
    "y = df['category']"
   ]
  },
  {
   "cell_type": "markdown",
   "id": "c39a6acb",
   "metadata": {},
   "source": [
    "## Split data for cross-validation"
   ]
  },
  {
   "cell_type": "code",
   "execution_count": 9,
   "id": "37331db0",
   "metadata": {},
   "outputs": [],
   "source": [
    "X_train, X_test, y_train, y_test = train_test_split(X, y, test_size=0.15, random_state=1)"
   ]
  },
  {
   "cell_type": "markdown",
   "id": "2f69c8ce",
   "metadata": {},
   "source": [
    "## A simple classifier model"
   ]
  },
  {
   "cell_type": "markdown",
   "id": "43da3fd8",
   "metadata": {},
   "source": [
    "### Train the model"
   ]
  },
  {
   "cell_type": "code",
   "execution_count": 10,
   "id": "57111781",
   "metadata": {},
   "outputs": [
    {
     "data": {
      "text/plain": [
       "RandomForestClassifier(class_weight='balanced', n_estimators=500, n_jobs=4,\n",
       "                       random_state=0)"
      ]
     },
     "execution_count": 10,
     "metadata": {},
     "output_type": "execute_result"
    }
   ],
   "source": [
    "clf = RandomForestClassifier(n_estimators=500, random_state=0, class_weight='balanced', n_jobs=4)\n",
    "clf.fit(X_train, y_train)"
   ]
  },
  {
   "cell_type": "markdown",
   "id": "50ecc3f8",
   "metadata": {},
   "source": [
    "### Evaluate the model"
   ]
  },
  {
   "cell_type": "code",
   "execution_count": 11,
   "id": "7ef5e521",
   "metadata": {},
   "outputs": [],
   "source": [
    "y_pred = clf.predict(X_test)"
   ]
  },
  {
   "cell_type": "code",
   "execution_count": 12,
   "id": "f6f8bb8d",
   "metadata": {},
   "outputs": [
    {
     "data": {
      "text/plain": [
       "0.6380837359098228"
      ]
     },
     "execution_count": 12,
     "metadata": {},
     "output_type": "execute_result"
    }
   ],
   "source": [
    "# Compute overall accuracy\n",
    "accuracy_score(y_test, y_pred)"
   ]
  },
  {
   "cell_type": "code",
   "execution_count": 13,
   "id": "f2b1ea4b",
   "metadata": {},
   "outputs": [
    {
     "data": {
      "text/plain": [
       "0.8333429806596224"
      ]
     },
     "execution_count": 13,
     "metadata": {},
     "output_type": "execute_result"
    }
   ],
   "source": [
    "# Compute overall one-versus-rest area under the ROC\n",
    "\n",
    "y_proba = clf.predict_proba(X_test)\n",
    "roc_auc_score(y_test, y_proba, multi_class='ovr')"
   ]
  },
  {
   "cell_type": "code",
   "execution_count": 14,
   "id": "ee0bfc13",
   "metadata": {},
   "outputs": [
    {
     "data": {
      "image/png": "[encoded data removed]",
      "text/plain": [
       "<Figure size 864x504 with 1 Axes>"
      ]
     },
     "metadata": {
      "needs_background": "light"
     },
     "output_type": "display_data"
    }
   ],
   "source": [
    "importances = clf.feature_importances_\n",
    "indices = np.argsort(importances)[::-1]\n",
    "features = X_train.columns[indices]\n",
    "importances = importances[indices]\n",
    "\n",
    "fig, ax = plt.subplots(figsize=(12, 7))\n",
    "plt.barh(range(len(importances)), importances)\n",
    "plt.yticks(range(len(importances)), features, fontsize=12)\n",
    "ax.invert_yaxis()\n",
    "ax.set_xlabel(\"Feature importance\", fontsize=12)\n",
    "\n",
    "plt.show()"
   ]
  },
  {
   "cell_type": "code",
   "execution_count": 15,
   "id": "92889c4f",
   "metadata": {},
   "outputs": [
    {
     "data": {
      "image/png": "[encoded data removed]",
      "text/plain": [
       "<Figure size 720x720 with 1 Axes>"
      ]
     },
     "metadata": {
      "needs_background": "light"
     },
     "output_type": "display_data"
    }
   ],
   "source": [
    "classes = [0, 1, 2, 3]\n",
    "labels = ['low', 'mid', 'high', 'lux']\n",
    "\n",
    "c = confusion_matrix(y_test, y_pred)\n",
    "c = c / c.sum(axis=1).reshape(len(classes), 1)\n",
    "\n",
    "# Plot\n",
    "fig, ax = plt.subplots(figsize=(10, 10))\n",
    "sns.heatmap(c, annot=True, cmap='BuGn', square=True, fmt='.2f', annot_kws={'size': 10}, cbar=False)\n",
    "plt.xlabel('Predicted', fontsize=16)\n",
    "plt.ylabel('Real', fontsize=16)\n",
    "plt.xticks(ticks=np.arange(.5, len(classes)), labels=labels, rotation=0, fontsize=12)\n",
    "plt.yticks(ticks=np.arange(.5, len(classes)), labels=labels, rotation=0, fontsize=12)\n",
    "plt.title(\"Simple model\", fontsize=18)\n",
    "\n",
    "plt.show()"
   ]
  },
  {
   "cell_type": "code",
   "execution_count": 16,
   "id": "f8a83fc9",
   "metadata": {},
   "outputs": [
    {
     "data": {
      "text/html": [
       "<div>\n",
       "<style scoped>\n",
       "    .dataframe tbody tr th:only-of-type {\n",
       "        vertical-align: middle;\n",
       "    }\n",
       "\n",
       "    .dataframe tbody tr th {\n",
       "        vertical-align: top;\n",
       "    }\n",
       "\n",
       "    .dataframe thead th {\n",
       "        text-align: right;\n",
       "    }\n",
       "</style>\n",
       "<table border=\"1\" class=\"dataframe\">\n",
       "  <thead>\n",
       "    <tr style=\"text-align: right;\">\n",
       "      <th></th>\n",
       "      <th>precision</th>\n",
       "      <th>recall</th>\n",
       "      <th>f1-score</th>\n",
       "      <th>support</th>\n",
       "    </tr>\n",
       "  </thead>\n",
       "  <tbody>\n",
       "    <tr>\n",
       "      <th>low</th>\n",
       "      <td>0.765245</td>\n",
       "      <td>0.867857</td>\n",
       "      <td>0.813327</td>\n",
       "      <td>3080.0</td>\n",
       "    </tr>\n",
       "    <tr>\n",
       "      <th>mid</th>\n",
       "      <td>0.634119</td>\n",
       "      <td>0.420857</td>\n",
       "      <td>0.505932</td>\n",
       "      <td>2685.0</td>\n",
       "    </tr>\n",
       "    <tr>\n",
       "      <th>high</th>\n",
       "      <td>0.473168</td>\n",
       "      <td>0.561259</td>\n",
       "      <td>0.513463</td>\n",
       "      <td>1461.0</td>\n",
       "    </tr>\n",
       "    <tr>\n",
       "      <th>lux</th>\n",
       "      <td>0.297297</td>\n",
       "      <td>0.584071</td>\n",
       "      <td>0.394030</td>\n",
       "      <td>226.0</td>\n",
       "    </tr>\n",
       "  </tbody>\n",
       "</table>\n",
       "</div>"
      ],
      "text/plain": [
       "      precision    recall  f1-score  support\n",
       "low    0.765245  0.867857  0.813327   3080.0\n",
       "mid    0.634119  0.420857  0.505932   2685.0\n",
       "high   0.473168  0.561259  0.513463   1461.0\n",
       "lux    0.297297  0.584071  0.394030    226.0"
      ]
     },
     "execution_count": 16,
     "metadata": {},
     "output_type": "execute_result"
    }
   ],
   "source": [
    "maps = {'0.0': 'low', '1.0': 'mid', '2.0': 'high', '3.0': 'lux'}\n",
    "\n",
    "report = classification_report(y_test, y_pred, output_dict=True)\n",
    "df_report = pd.DataFrame.from_dict(report).T[:-3]\n",
    "df_report.index = [maps[i] for i in df_report.index]\n",
    "df_report"
   ]
  },
  {
   "cell_type": "code",
   "execution_count": 17,
   "id": "b6f1dd1b",
   "metadata": {},
   "outputs": [
    {
     "data": {
      "image/png": "[encoded data removed]",
      "text/plain": [
       "<Figure size 1152x504 with 3 Axes>"
      ]
     },
     "metadata": {
      "needs_background": "light"
     },
     "output_type": "display_data"
    }
   ],
   "source": [
    "metrics = ['precision', 'recall', 'support']\n",
    "\n",
    "fig, axes = plt.subplots(1, len(metrics), figsize=(16, 7))\n",
    "\n",
    "for i, ax in enumerate(axes):\n",
    "\n",
    "    ax.barh(df_report.index, df_report[metrics[i]], alpha=0.9)\n",
    "    ax.tick_params(axis='both', which='major', labelsize=12)\n",
    "    ax.set_xlabel(metrics[i], fontsize=12)\n",
    "    ax.invert_yaxis()\n",
    "    ax.spines['top'].set_visible(False)\n",
    "    ax.spines['right'].set_visible(False)\n",
    "\n",
    "plt.suptitle(\"Simple model\", fontsize=14)\n",
    "plt.show()"
   ]
  },
  {
   "cell_type": "code",
   "execution_count": null,
   "id": "9aa500f4",
   "metadata": {},
   "outputs": [],
   "source": []
  }
 ],
 "metadata": {
  "kernelspec": {
   "display_name": "Python 3",
   "language": "python",
   "name": "python3"
  },
  "language_info": {
   "codemirror_mode": {
    "name": "ipython",
    "version": 3
   },
   "file_extension": ".py",
   "mimetype": "text/x-python",
   "name": "python",
   "nbconvert_exporter": "python",
   "pygments_lexer": "ipython3",
   "version": "3.7.5"
  }
 },
 "nbformat": 4,
 "nbformat_minor": 5
}
